{
 "cells": [
  {
   "cell_type": "code",
   "execution_count": 1,
   "metadata": {},
   "outputs": [],
   "source": [
    "import nltk"
   ]
  },
  {
   "cell_type": "code",
   "execution_count": 2,
   "metadata": {},
   "outputs": [],
   "source": [
    "import csv"
   ]
  },
  {
   "cell_type": "code",
   "execution_count": 3,
   "metadata": {},
   "outputs": [],
   "source": [
    "import re"
   ]
  },
  {
   "cell_type": "code",
   "execution_count": 4,
   "metadata": {},
   "outputs": [],
   "source": [
    "import itertools"
   ]
  },
  {
   "cell_type": "code",
   "execution_count": 5,
   "metadata": {},
   "outputs": [],
   "source": [
    "import datetime\n",
    "now = datetime.datetime.now()"
   ]
  },
  {
   "cell_type": "code",
   "execution_count": 6,
   "metadata": {},
   "outputs": [],
   "source": [
    "liwc = open('C:\\\\Users\\\\vitor\\\\Documents\\\\Python Projects\\\\SentiLexFinancial\\\\Lexicon\\\\Liwc\\\\liwc_pt.txt', 'r')\n",
    "count = 0\n",
    "for line in liwc.readlines(): count += 1"
   ]
  },
  {
   "cell_type": "code",
   "execution_count": 7,
   "metadata": {},
   "outputs": [],
   "source": [
    "dic_palavra = {}\n",
    "liwc = open('C:\\\\Users\\\\vitor\\\\Documents\\\\Python Projects\\\\SentiLexFinancial\\\\Lexicon\\\\Liwc\\\\liwc_pt.txt', 'r')\n",
    "pol = {}\n",
    "for line in itertools.islice(liwc, 67, count):\n",
    "    pos_ponto = line.replace('\\t',',')\n",
    "    p1 = pos_ponto.find(',')\n",
    "    palavra = (line[:p1])\n",
    "    polar = line[p1:].replace('\\t',',')\n",
    "    if '127' in polar:\n",
    "        polar = '-1'\n",
    "    else: \n",
    "        if '126' in polar:\n",
    "            polar = '1'\n",
    "        polar = '0'\n",
    "    dic_palavra[palavra] = polar"
   ]
  },
  {
   "cell_type": "code",
   "execution_count": 8,
   "metadata": {},
   "outputs": [],
   "source": [
    "def Score_sentimento(frase):\n",
    "    frase = frase.lower()\n",
    "    l_sentimento = []\n",
    "    for p in frase.split():\n",
    "        l_sentimento.append(int(dic_palavra.get(p, 0)))\n",
    "    score = sum(l_sentimento)\n",
    "    if score > 0:\n",
    "        return 'Positivo, Score:{}'.format(score)\n",
    "    elif score == 0:\n",
    "        return 'Neutro, Score:{}'.format(score)\n",
    "    else:\n",
    "        return 'Negativo, Score:{}'.format(score)"
   ]
  },
  {
   "cell_type": "code",
   "execution_count": 9,
   "metadata": {},
   "outputs": [],
   "source": [
    "today = now.strftime(\"%Y-%m-%d\")"
   ]
  },
  {
   "cell_type": "code",
   "execution_count": 10,
   "metadata": {},
   "outputs": [],
   "source": [
    "# INFOMONEY\n",
    "with open('C:/Users/vitor/Documents/GetDataset/Infomoney/'+ today +'/dataset.csv', encoding=\"utf8\") as csvfile:\n",
    "    reader = csv.reader(csvfile)\n",
    "    next(reader)\n",
    "    dataInfomoney = [r for r in reader]"
   ]
  },
  {
   "cell_type": "code",
   "execution_count": 11,
   "metadata": {},
   "outputs": [],
   "source": [
    "with open('C:/Users/vitor/Documents/GetDataset/Infomoney/'+ today +'/polarityLiwc.csv', mode='w', encoding=\"utf8\") as employee_file:\n",
    "    employee_writer = csv.writer(employee_file, delimiter=',', quotechar='\"', quoting=csv.QUOTE_MINIMAL)    \n",
    "    for lista2 in dataInfomoney:\n",
    "        try:\n",
    "            x = Score_sentimento(lista2[2])\n",
    "            x = str(x)\n",
    "            employee_writer.writerow([lista2[2], x])\n",
    "        except IndexError:\n",
    "            x = 'null'"
   ]
  },
  {
   "cell_type": "code",
   "execution_count": 12,
   "metadata": {},
   "outputs": [],
   "source": [
    "# INVESTING.COM\n",
    "with open('C:/Users/vitor/Documents/GetDataset/Investing.com/'+ today +'/dataset.csv', encoding=\"utf8\") as csvfile:\n",
    "    reader = csv.reader(csvfile)\n",
    "    next(reader)\n",
    "    dataInvesting = [r for r in reader]"
   ]
  },
  {
   "cell_type": "code",
   "execution_count": 13,
   "metadata": {},
   "outputs": [],
   "source": [
    "with open('C:/Users/vitor/Documents/GetDataset/Investing.com/'+ today +'/polarityLiwc.csv', mode='w', encoding=\"utf8\") as employee_file:\n",
    "    employee_writer = csv.writer(employee_file, delimiter=',', quotechar='\"', quoting=csv.QUOTE_MINIMAL)    \n",
    "    for lista1 in dataInvesting:\n",
    "        try:\n",
    "            x = Score_sentimento(lista1[2])\n",
    "            x = str(x)\n",
    "            employee_writer.writerow([lista1[2], x])\n",
    "        except IndexError:\n",
    "            x = 'null'"
   ]
  },
  {
   "cell_type": "code",
   "execution_count": 14,
   "metadata": {},
   "outputs": [],
   "source": [
    "# -- TRADING VIEW --------------------------------------------------------------------------------------------------\n",
    "with open('C:/Users/vitor/Documents/GetDataset/TradingView/'+ today +'/dataset.csv', encoding=\"utf8\") as csvfile:\n",
    "    reader = csv.reader(csvfile)\n",
    "    next(reader)\n",
    "    dataTrading = [r for r in reader]"
   ]
  },
  {
   "cell_type": "code",
   "execution_count": 15,
   "metadata": {},
   "outputs": [],
   "source": [
    "with open('C:/Users/vitor/Documents/GetDataset/TradingView/'+ today +'/polarityLiwc.csv', mode='w', encoding=\"utf8\") as employee_file:\n",
    "    employee_writer = csv.writer(employee_file, delimiter=',', quotechar='\"', quoting=csv.QUOTE_MINIMAL)    \n",
    "    for lista in dataTrading:\n",
    "        try:\n",
    "            x = Score_sentimento(lista[2])\n",
    "            x = str(x)\n",
    "            employee_writer.writerow([lista[2], x])\n",
    "        except IndexError:\n",
    "            x = 'null'"
   ]
  },
  {
   "cell_type": "code",
   "execution_count": 16,
   "metadata": {},
   "outputs": [
    {
     "name": "stdout",
     "output_type": "stream",
     "text": [
      "Total:  1224\n",
      "Postivos:  16\n",
      "Neutros:  158\n",
      "Negativos:  454\n"
     ]
    }
   ],
   "source": [
    "# Resultados TradingView\n",
    "r_tradingview = open('C:/Users/vitor/Documents/GetDataset/TradingView/'+ today +'/polarityLiwc.csv', 'r', encoding='utf8')\n",
    "count = 0\n",
    "pos = 0\n",
    "neu = 0\n",
    "neg = 0\n",
    "for t in r_tradingview.readlines():\n",
    "    count += 1\n",
    "    if 'Positivo' in t:\n",
    "        pos += 1\n",
    "    if 'Neutro' in t:\n",
    "        neu += 1\n",
    "    if 'Negativo' in t:\n",
    "        neg += 1\n",
    "print(\"Total: \",count)\n",
    "print(\"Postivos: \",pos)\n",
    "print(\"Neutros: \",neu)\n",
    "print(\"Negativos: \",neg)"
   ]
  },
  {
   "cell_type": "code",
   "execution_count": 17,
   "metadata": {},
   "outputs": [
    {
     "name": "stdout",
     "output_type": "stream",
     "text": [
      "Total:  2614\n",
      "Postivos:  0\n",
      "Neutros:  966\n",
      "Negativos:  341\n"
     ]
    }
   ],
   "source": [
    "# Resultados InfoMoney\n",
    "r_infomoney = open('C:/Users/vitor/Documents/GetDataset/Infomoney/'+ today +'/polarityLiwc.csv', 'r', encoding='utf8')\n",
    "count = 0\n",
    "pos = 0\n",
    "neu = 0\n",
    "neg = 0\n",
    "for t in r_infomoney.readlines():\n",
    "    count += 1\n",
    "    if 'Positivo' in t:\n",
    "        pos += 1\n",
    "    if 'Neutro' in t:\n",
    "        neu += 1\n",
    "    if 'Negativo' in t:\n",
    "        neg += 1\n",
    "print(\"Total: \",count)\n",
    "print(\"Postivos: \",pos)\n",
    "print(\"Neutros: \",neu)\n",
    "print(\"Negativos: \",neg)"
   ]
  },
  {
   "cell_type": "code",
   "execution_count": 18,
   "metadata": {},
   "outputs": [
    {
     "name": "stdout",
     "output_type": "stream",
     "text": [
      "Total:  198\n",
      "Postivos:  0\n",
      "Neutros:  62\n",
      "Negativos:  37\n"
     ]
    }
   ],
   "source": [
    "# Resultados Investing.com\n",
    "r_investing = open('C:/Users/vitor/Documents/GetDataset/Investing.com/'+ today +'/polarityLiwc.csv', 'r', encoding='utf8')\n",
    "count = 0\n",
    "pos = 0\n",
    "neu = 0\n",
    "neg = 0\n",
    "for t in r_investing.readlines():\n",
    "    count += 1\n",
    "    if 'Positivo' in t:\n",
    "        pos += 1\n",
    "    if 'Neutro' in t:\n",
    "        neu += 1\n",
    "    if 'Negativo' in t:\n",
    "        neg += 1\n",
    "print(\"Total: \",count)\n",
    "print(\"Postivos: \",pos)\n",
    "print(\"Neutros: \",neu)\n",
    "print(\"Negativos: \",neg)"
   ]
  },
  {
   "cell_type": "code",
   "execution_count": null,
   "metadata": {},
   "outputs": [],
   "source": []
  }
 ],
 "metadata": {
  "kernelspec": {
   "display_name": "Python 3",
   "language": "python",
   "name": "python3"
  },
  "language_info": {
   "codemirror_mode": {
    "name": "ipython",
    "version": 3
   },
   "file_extension": ".py",
   "mimetype": "text/x-python",
   "name": "python",
   "nbconvert_exporter": "python",
   "pygments_lexer": "ipython3",
   "version": "3.6.6"
  }
 },
 "nbformat": 4,
 "nbformat_minor": 2
}
