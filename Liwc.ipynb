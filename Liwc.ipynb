{
 "cells": [
  {
   "cell_type": "code",
   "execution_count": 29,
   "metadata": {},
   "outputs": [],
   "source": [
    "import nltk"
   ]
  },
  {
   "cell_type": "code",
   "execution_count": 30,
   "metadata": {},
   "outputs": [],
   "source": [
    "import csv"
   ]
  },
  {
   "cell_type": "code",
   "execution_count": 3,
   "metadata": {},
   "outputs": [],
   "source": [
    "import re"
   ]
  },
  {
   "cell_type": "code",
   "execution_count": 4,
   "metadata": {},
   "outputs": [],
   "source": [
    "import itertools"
   ]
  },
  {
   "cell_type": "code",
   "execution_count": 5,
   "metadata": {},
   "outputs": [],
   "source": [
    "import datetime\n",
    "now = datetime.datetime.now()\n",
    "today = now.strftime(\"%Y-%m-%d\")"
   ]
  },
  {
   "cell_type": "code",
   "execution_count": 9,
   "metadata": {},
   "outputs": [],
   "source": [
    "liwc = open('Lexicon/Liwc/liwc_pt.txt', 'r')\n",
    "count = 0\n",
    "for line in liwc.readlines(): count += 1"
   ]
  },
  {
   "cell_type": "code",
   "execution_count": 12,
   "metadata": {},
   "outputs": [],
   "source": [
    "dic_palavra = {}\n",
    "liwc = open('Lexicon/Liwc/liwc_pt.txt', 'r')\n",
    "pol = {}\n",
    "for line in itertools.islice(liwc, 67, count):\n",
    "    pos_ponto = line.replace('\\t',',')\n",
    "    p1 = pos_ponto.find(',')\n",
    "    palavra = (line[:p1])\n",
    "    polar = line[p1:].replace('\\t',',')\n",
    "    if '127' in polar:\n",
    "        polar = '-1'\n",
    "    else: \n",
    "        if '126' in polar:\n",
    "            polar = '1'\n",
    "        polar = '0'\n",
    "    dic_palavra[palavra] = polar"
   ]
  },
  {
   "cell_type": "code",
   "execution_count": 13,
   "metadata": {},
   "outputs": [],
   "source": [
    "def Score_sentimento(frase):\n",
    "    frase = frase.lower()\n",
    "    l_sentimento = []\n",
    "    for p in frase.split():\n",
    "        l_sentimento.append(int(dic_palavra.get(p, 0)))\n",
    "    score = sum(l_sentimento)\n",
    "    if score > 0:\n",
    "        return 'Positivo, Score:{}'.format(score)\n",
    "    elif score == 0:\n",
    "        return 'Neutro, Score:{}'.format(score)\n",
    "    else:\n",
    "        return 'Negativo, Score:{}'.format(score)"
   ]
  },
  {
   "cell_type": "code",
   "execution_count": 14,
   "metadata": {},
   "outputs": [],
   "source": [
    "stemmer = nltk.stem.RSLPStemmer()\n",
    "def Score_sentimento_Stemming(frase):\n",
    "    frase = frase.lower()\n",
    "    l_sentimento = []\n",
    "    for p in frase.split():\n",
    "        l_sentimento.append(int(dic_palavra.get(stemmer.stem(p), 0)))\n",
    "    score = sum(l_sentimento)\n",
    "    if score > 0:\n",
    "        return 'Positivo, Score:{}'.format(score)\n",
    "    elif score == 0:\n",
    "        return 'Neutro, Score:{}'.format(score)\n",
    "    else:\n",
    "        return 'Negativo, Score:{}'.format(score)"
   ]
  },
  {
   "cell_type": "code",
   "execution_count": 31,
   "metadata": {},
   "outputs": [],
   "source": [
    "dInfoMoney = 'C:/Users/vitor/Documents/GetDataset/Infomoney/'\n",
    "dInvesting = 'C:/Users/vitor/Documents/GetDataset/Investing.com/'\n",
    "dTrading = 'C:/Users/vitor/Documents/GetDataset/TradingView/'"
   ]
  },
  {
   "cell_type": "code",
   "execution_count": 16,
   "metadata": {},
   "outputs": [],
   "source": [
    "# INFOMONEY\n",
    "with open(dInfoMoney + today +'/dataset.csv', encoding=\"utf8\") as csvfile:\n",
    "    reader = csv.reader(csvfile)\n",
    "    next(reader)\n",
    "    dataInfomoney = [r for r in reader]"
   ]
  },
  {
   "cell_type": "code",
   "execution_count": 17,
   "metadata": {},
   "outputs": [],
   "source": [
    "with open(dInfoMoney + today +'/polarityLiwc.csv', mode='w', encoding=\"utf8\") as employee_file:\n",
    "    employee_writer = csv.writer(employee_file, delimiter=',', quotechar='\"', quoting=csv.QUOTE_MINIMAL)    \n",
    "    for lista2 in dataInfomoney:\n",
    "        try:\n",
    "            x = Score_sentimento(lista2[2])\n",
    "            x = str(x)\n",
    "            employee_writer.writerow([lista2[2], x])\n",
    "        except IndexError:\n",
    "            x = 'null'"
   ]
  },
  {
   "cell_type": "code",
   "execution_count": 18,
   "metadata": {},
   "outputs": [],
   "source": [
    "with open(dInfoMoney + today +'/polarityLiwcStemming.csv', mode='w', encoding=\"utf8\") as employee_file:\n",
    "    employee_writer = csv.writer(employee_file, delimiter=',', quotechar='\"', quoting=csv.QUOTE_MINIMAL)    \n",
    "    for lista2 in dataInfomoney:\n",
    "        try:\n",
    "            x = Score_sentimento_Stemming(lista2[2])\n",
    "            x = str(x)\n",
    "            employee_writer.writerow([lista2[2], x])\n",
    "        except IndexError:\n",
    "            x = 'null'"
   ]
  },
  {
   "cell_type": "code",
   "execution_count": 19,
   "metadata": {},
   "outputs": [],
   "source": [
    "# INVESTING.COM\n",
    "with open(dInvesting + today +'/dataset.csv', encoding=\"utf8\") as csvfile:\n",
    "    reader = csv.reader(csvfile)\n",
    "    next(reader)\n",
    "    dataInvesting = [r for r in reader]"
   ]
  },
  {
   "cell_type": "code",
   "execution_count": 20,
   "metadata": {},
   "outputs": [],
   "source": [
    "with open(dInvesting + today +'/polarityLiwc.csv', mode='w', encoding=\"utf8\") as employee_file:\n",
    "    employee_writer = csv.writer(employee_file, delimiter=',', quotechar='\"', quoting=csv.QUOTE_MINIMAL)    \n",
    "    for lista1 in dataInvesting:\n",
    "        try:\n",
    "            x = Score_sentimento(lista1[2])\n",
    "            x = str(x)\n",
    "            employee_writer.writerow([lista1[2], x])\n",
    "        except IndexError:\n",
    "            x = 'null'"
   ]
  },
  {
   "cell_type": "code",
   "execution_count": 21,
   "metadata": {},
   "outputs": [],
   "source": [
    "with open(dInvesting + today +'/polarityLiwcStemming.csv', mode='w', encoding=\"utf8\") as employee_file:\n",
    "    employee_writer = csv.writer(employee_file, delimiter=',', quotechar='\"', quoting=csv.QUOTE_MINIMAL)    \n",
    "    for lista1 in dataInvesting:\n",
    "        try:\n",
    "            x = Score_sentimento_Stemming(lista1[2])\n",
    "            x = str(x)\n",
    "            employee_writer.writerow([lista1[2], x])\n",
    "        except IndexError:\n",
    "            x = 'null'"
   ]
  },
  {
   "cell_type": "code",
   "execution_count": 22,
   "metadata": {},
   "outputs": [],
   "source": [
    "# -- TRADING VIEW --------------------------------------------------------------------------------------------------\n",
    "with open(dTrading + today +'/dataset.csv', encoding=\"utf8\") as csvfile:\n",
    "    reader = csv.reader(csvfile)\n",
    "    next(reader)\n",
    "    dataTrading = [r for r in reader]"
   ]
  },
  {
   "cell_type": "code",
   "execution_count": 23,
   "metadata": {},
   "outputs": [],
   "source": [
    "with open(dTrading + today +'/polarityLiwc.csv', mode='w', encoding=\"utf8\") as employee_file:\n",
    "    employee_writer = csv.writer(employee_file, delimiter=',', quotechar='\"', quoting=csv.QUOTE_MINIMAL)    \n",
    "    for lista in dataTrading:\n",
    "        try:\n",
    "            x = Score_sentimento(lista[2])\n",
    "            x = str(x)\n",
    "            employee_writer.writerow([lista[2], x])\n",
    "        except IndexError:\n",
    "            x = 'null'"
   ]
  },
  {
   "cell_type": "code",
   "execution_count": 24,
   "metadata": {},
   "outputs": [],
   "source": [
    "with open(dTrading + today +'/polarityLiwcStemming.csv', mode='w', encoding=\"utf8\") as employee_file:\n",
    "    employee_writer = csv.writer(employee_file, delimiter=',', quotechar='\"', quoting=csv.QUOTE_MINIMAL)    \n",
    "    for lista in dataTrading:\n",
    "        try:\n",
    "            x = Score_sentimento_Stemming(lista[2])\n",
    "            x = str(x)\n",
    "            employee_writer.writerow([lista[2], x])\n",
    "        except IndexError:\n",
    "            x = 'null'"
   ]
  },
  {
   "cell_type": "code",
   "execution_count": null,
   "metadata": {},
   "outputs": [],
   "source": []
  },
  {
   "cell_type": "code",
   "execution_count": null,
   "metadata": {},
   "outputs": [],
   "source": []
  },
  {
   "cell_type": "code",
   "execution_count": null,
   "metadata": {},
   "outputs": [],
   "source": []
  },
  {
   "cell_type": "code",
   "execution_count": null,
   "metadata": {},
   "outputs": [],
   "source": []
  },
  {
   "cell_type": "code",
   "execution_count": null,
   "metadata": {},
   "outputs": [],
   "source": []
  },
  {
   "cell_type": "code",
   "execution_count": null,
   "metadata": {},
   "outputs": [],
   "source": []
  },
  {
   "cell_type": "code",
   "execution_count": null,
   "metadata": {},
   "outputs": [],
   "source": []
  }
 ],
 "metadata": {
  "kernelspec": {
   "display_name": "Python 3",
   "language": "python",
   "name": "python3"
  },
  "language_info": {
   "codemirror_mode": {
    "name": "ipython",
    "version": 3
   },
   "file_extension": ".py",
   "mimetype": "text/x-python",
   "name": "python",
   "nbconvert_exporter": "python",
   "pygments_lexer": "ipython3",
   "version": "3.6.5"
  }
 },
 "nbformat": 4,
 "nbformat_minor": 2
}
