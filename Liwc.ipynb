{
 "cells": [
  {
   "cell_type": "code",
   "execution_count": 1,
   "metadata": {},
   "outputs": [],
   "source": [
    "import nltk"
   ]
  },
  {
   "cell_type": "code",
   "execution_count": 2,
   "metadata": {},
   "outputs": [],
   "source": [
    "import csv"
   ]
  },
  {
   "cell_type": "code",
   "execution_count": 3,
   "metadata": {},
   "outputs": [],
   "source": [
    "import re"
   ]
  },
  {
   "cell_type": "code",
   "execution_count": 4,
   "metadata": {},
   "outputs": [],
   "source": [
    "import itertools"
   ]
  },
  {
   "cell_type": "code",
   "execution_count": 5,
   "metadata": {},
   "outputs": [],
   "source": [
    "import datetime\n",
    "now = datetime.datetime.now()"
   ]
  },
  {
   "cell_type": "code",
   "execution_count": 24,
   "metadata": {},
   "outputs": [],
   "source": [
    "liwc = open('C:\\\\Users\\\\vitor\\\\Documents\\\\Python Projects\\\\SentiLexFinancial\\\\Lexicon\\\\Liwc\\\\liwc_pt.txt', 'r')\n",
    "count = 0\n",
    "for line in liwc.readlines(): count += 1"
   ]
  },
  {
   "cell_type": "code",
   "execution_count": 26,
   "metadata": {},
   "outputs": [],
   "source": [
    "dic_palavra = {}\n",
    "liwc = open('C:\\\\Users\\\\vitor\\\\Documents\\\\Python Projects\\\\SentiLexFinancial\\\\Lexicon\\\\Liwc\\\\liwc_pt.txt', 'r')\n",
    "pol = {}\n",
    "for line in itertools.islice(liwc, 67, count):\n",
    "    pos_ponto = line.replace('\\t',',')\n",
    "    p1 = pos_ponto.find(',')\n",
    "    palavra = (line[:p1])\n",
    "    polar = line[p1:].replace('\\t',',')\n",
    "    if '127' in polar:\n",
    "        polar = '-1'\n",
    "    else: \n",
    "        if '126' in polar:\n",
    "            polar = '1'\n",
    "        polar = '0'\n",
    "    dic_palavra[palavra] = polar"
   ]
  },
  {
   "cell_type": "code",
   "execution_count": 11,
   "metadata": {},
   "outputs": [
    {
     "name": "stdout",
     "output_type": "stream",
     "text": [
      ",131,132,133,136\n",
      "\n"
     ]
    }
   ],
   "source": [
    "print(dic_palavra.get('comprova'))"
   ]
  },
  {
   "cell_type": "code",
   "execution_count": 30,
   "metadata": {},
   "outputs": [],
   "source": [
    "def Score_sentimento(frase):\n",
    "    frase = frase.lower()\n",
    "    l_sentimento = []\n",
    "    for p in frase.split():\n",
    "        l_sentimento.append(int(dic_palavra.get(p, 0)))\n",
    "    score = sum(l_sentimento)\n",
    "    if score > 0:\n",
    "        return 'Positivo, Score:{}'.format(score)\n",
    "    elif score == 0:\n",
    "        return 'Neutro, Score:{}'.format(score)\n",
    "    else:\n",
    "        return 'Negativo, Score:{}'.format(score)"
   ]
  },
  {
   "cell_type": "code",
   "execution_count": 31,
   "metadata": {},
   "outputs": [
    {
     "data": {
      "text/plain": [
       "'Negativo, Score:-1'"
      ]
     },
     "execution_count": 31,
     "metadata": {},
     "output_type": "execute_result"
    }
   ],
   "source": [
    "Score_sentimento('Mercados em boa expansão na sessão de hoje, mesmo com indicadores ruins anunciados no mundo.')"
   ]
  },
  {
   "cell_type": "code",
   "execution_count": null,
   "metadata": {},
   "outputs": [],
   "source": []
  }
 ],
 "metadata": {
  "kernelspec": {
   "display_name": "Python 3",
   "language": "python",
   "name": "python3"
  },
  "language_info": {
   "codemirror_mode": {
    "name": "ipython",
    "version": 3
   },
   "file_extension": ".py",
   "mimetype": "text/x-python",
   "name": "python",
   "nbconvert_exporter": "python",
   "pygments_lexer": "ipython3",
   "version": "3.6.6"
  }
 },
 "nbformat": 4,
 "nbformat_minor": 2
}
