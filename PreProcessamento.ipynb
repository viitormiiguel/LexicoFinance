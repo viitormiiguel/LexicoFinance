{
 "cells": [
  {
   "cell_type": "code",
   "execution_count": 30,
   "metadata": {},
   "outputs": [],
   "source": [
    "import nltk\n",
    "import re\n",
    "import csv\n",
    "import datetime"
   ]
  },
  {
   "cell_type": "code",
   "execution_count": 31,
   "metadata": {},
   "outputs": [],
   "source": [
    "now = datetime.datetime.now()\n",
    "today = now.strftime(\"%Y-%m-%d\")"
   ]
  },
  {
   "cell_type": "code",
   "execution_count": 17,
   "metadata": {},
   "outputs": [],
   "source": [
    "stemmer = nltk.stem.RSLPStemmer()"
   ]
  },
  {
   "cell_type": "code",
   "execution_count": 3,
   "metadata": {},
   "outputs": [],
   "source": [
    "texto = \"Ibovespa tem terceira semana seguida de alta com rali eleitoral; dólar cai para R$ 3,71\""
   ]
  },
  {
   "cell_type": "code",
   "execution_count": 7,
   "metadata": {},
   "outputs": [],
   "source": [
    "new = re.sub('[-10-9]', ' ',texto)"
   ]
  },
  {
   "cell_type": "code",
   "execution_count": 8,
   "metadata": {},
   "outputs": [
    {
     "data": {
      "text/plain": [
       "'Ibovespa tem terceira semana seguida de alta com rali eleitoral; dólar cai para R$  ,  '"
      ]
     },
     "execution_count": 8,
     "metadata": {},
     "output_type": "execute_result"
    }
   ],
   "source": [
    "new"
   ]
  },
  {
   "cell_type": "code",
   "execution_count": 9,
   "metadata": {},
   "outputs": [],
   "source": [
    "new = re.sub(r'[-./?!,\":;()\\']','',new)"
   ]
  },
  {
   "cell_type": "code",
   "execution_count": 10,
   "metadata": {},
   "outputs": [
    {
     "data": {
      "text/plain": [
       "'Ibovespa tem terceira semana seguida de alta com rali eleitoral dólar cai para R$    '"
      ]
     },
     "execution_count": 10,
     "metadata": {},
     "output_type": "execute_result"
    }
   ],
   "source": [
    "new"
   ]
  },
  {
   "cell_type": "code",
   "execution_count": 23,
   "metadata": {},
   "outputs": [],
   "source": [
    "def RemoveStopWords(instancia):\n",
    "    instancia  = instancia.lower()\n",
    "    stopwords = set(nltk.corpus.stopwords.words('portuguese'))\n",
    "    palavras = [i for i in instancia.split() if not i in stopwords]\n",
    "    return (\" \".join(palavras))"
   ]
  },
  {
   "cell_type": "code",
   "execution_count": 19,
   "metadata": {},
   "outputs": [
    {
     "name": "stdout",
     "output_type": "stream",
     "text": [
      "['ibovespa', 'terceira', 'semana', 'seguida', 'alta', 'rali', 'eleitoral', 'dólar', 'cai', 'r$']\n"
     ]
    },
    {
     "data": {
      "text/plain": [
       "'ibovespa terceira semana seguida alta rali eleitoral dólar cai r$'"
      ]
     },
     "execution_count": 19,
     "metadata": {},
     "output_type": "execute_result"
    }
   ],
   "source": [
    "RemoveStopWords(new)"
   ]
  },
  {
   "cell_type": "code",
   "execution_count": 24,
   "metadata": {},
   "outputs": [],
   "source": [
    "sentilex = open(\"Lexicon/SentiLex/SentiLex-lem-PT01.txt\", 'r', encoding=\"utf8\")\n",
    "dic_palavra = {}\n",
    "for i in sentilex.readlines():\n",
    "    pos_ponto = i.find('.')\n",
    "    palavra = (i[:pos_ponto])\n",
    "    pol_pos = i.find('POL')\n",
    "    polaridade = (i[pol_pos+4:pol_pos+6]).replace(';','')\n",
    "    dic_palavra[palavra] = polaridade"
   ]
  },
  {
   "cell_type": "code",
   "execution_count": 25,
   "metadata": {},
   "outputs": [],
   "source": [
    "def Score_sentimento_Stemming(frase):\n",
    "    frase = frase.lower()\n",
    "    l_sentimento = []\n",
    "    for p in frase.split():\n",
    "        l_sentimento.append(int(dic_palavra.get(stemmer.stem(p), 0)))\n",
    "    score = sum(l_sentimento)\n",
    "    if score > 0:\n",
    "        return 'Positivo, Score:{}'.format(score)\n",
    "    elif score == 0:\n",
    "        return 'Neutro, Score:{}'.format(score)\n",
    "    else:\n",
    "        return 'Negativo, Score:{}'.format(score)"
   ]
  },
  {
   "cell_type": "code",
   "execution_count": 27,
   "metadata": {},
   "outputs": [
    {
     "name": "stdout",
     "output_type": "stream",
     "text": [
      "ibovespa terceira semana seguida alta rali eleitoral dólar cai r$\n"
     ]
    }
   ],
   "source": [
    "novoTexto = RemoveStopWords(new)\n",
    "print(novoTexto)"
   ]
  },
  {
   "cell_type": "code",
   "execution_count": 28,
   "metadata": {},
   "outputs": [
    {
     "data": {
      "text/plain": [
       "'Neutro, Score:0'"
      ]
     },
     "execution_count": 28,
     "metadata": {},
     "output_type": "execute_result"
    }
   ],
   "source": [
    "Score_sentimento_Stemming(novoTexto)"
   ]
  },
  {
   "cell_type": "code",
   "execution_count": null,
   "metadata": {},
   "outputs": [],
   "source": []
  }
 ],
 "metadata": {
  "kernelspec": {
   "display_name": "Python 3",
   "language": "python",
   "name": "python3"
  },
  "language_info": {
   "codemirror_mode": {
    "name": "ipython",
    "version": 3
   },
   "file_extension": ".py",
   "mimetype": "text/x-python",
   "name": "python",
   "nbconvert_exporter": "python",
   "pygments_lexer": "ipython3",
   "version": "3.6.5"
  }
 },
 "nbformat": 4,
 "nbformat_minor": 2
}
