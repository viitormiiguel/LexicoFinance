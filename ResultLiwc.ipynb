{
 "cells": [
  {
   "cell_type": "code",
   "execution_count": 5,
   "metadata": {},
   "outputs": [],
   "source": [
    "import nltk"
   ]
  },
  {
   "cell_type": "code",
   "execution_count": 6,
   "metadata": {},
   "outputs": [],
   "source": [
    "import csv"
   ]
  },
  {
   "cell_type": "code",
   "execution_count": 7,
   "metadata": {},
   "outputs": [],
   "source": [
    "import datetime\n",
    "now = datetime.datetime.now()\n",
    "today = now.strftime(\"%Y-%m-%d\")"
   ]
  },
  {
   "cell_type": "code",
   "execution_count": 8,
   "metadata": {},
   "outputs": [],
   "source": [
    "dInfoMoney = 'C:/Users/vitor/Documents/GetDataset/Infomoney/'\n",
    "dInvesting = 'C:/Users/vitor/Documents/GetDataset/Investing.com/'\n",
    "dTrading = 'C:/Users/vitor/Documents/GetDataset/TradingView/'"
   ]
  },
  {
   "cell_type": "code",
   "execution_count": 9,
   "metadata": {},
   "outputs": [
    {
     "name": "stdout",
     "output_type": "stream",
     "text": [
      "Total:  1222\n",
      "Postivos:  16\n",
      "Neutros:  157\n",
      "Negativos:  454\n"
     ]
    }
   ],
   "source": [
    "# Resultados TradingView\n",
    "r_tradingview = open(dTrading + today +'/polarityLiwc.csv', 'r', encoding='utf8')\n",
    "count = 0\n",
    "pos = 0\n",
    "neu = 0\n",
    "neg = 0\n",
    "for t in r_tradingview.readlines():\n",
    "    count += 1\n",
    "    if 'Positivo' in t:\n",
    "        pos += 1\n",
    "    if 'Neutro' in t:\n",
    "        neu += 1\n",
    "    if 'Negativo' in t:\n",
    "        neg += 1\n",
    "print(\"Total: \",count)\n",
    "print(\"Postivos: \",pos)\n",
    "print(\"Neutros: \",neu)\n",
    "print(\"Negativos: \",neg)"
   ]
  },
  {
   "cell_type": "code",
   "execution_count": 10,
   "metadata": {},
   "outputs": [
    {
     "name": "stdout",
     "output_type": "stream",
     "text": [
      "Total:  1222\n",
      "Postivos:  16\n",
      "Neutros:  553\n",
      "Negativos:  69\n"
     ]
    }
   ],
   "source": [
    "# Resultados TradingView\n",
    "r_tradingview = open(dTrading + today +'/polarityLiwcStemming.csv', 'r', encoding='utf8')\n",
    "count = 0\n",
    "pos = 0\n",
    "neu = 0\n",
    "neg = 0\n",
    "for t in r_tradingview.readlines():\n",
    "    count += 1\n",
    "    if 'Positivo' in t:\n",
    "        pos += 1\n",
    "    if 'Neutro' in t:\n",
    "        neu += 1\n",
    "    if 'Negativo' in t:\n",
    "        neg += 1\n",
    "print(\"Total: \",count)\n",
    "print(\"Postivos: \",pos)\n",
    "print(\"Neutros: \",neu)\n",
    "print(\"Negativos: \",neg)"
   ]
  },
  {
   "cell_type": "code",
   "execution_count": 11,
   "metadata": {},
   "outputs": [
    {
     "name": "stdout",
     "output_type": "stream",
     "text": [
      "Total:  2614\n",
      "Postivos:  0\n",
      "Neutros:  965\n",
      "Negativos:  342\n"
     ]
    }
   ],
   "source": [
    "# Resultados InfoMoney\n",
    "r_infomoney = open(dInfoMoney + today +'/polarityLiwc.csv', 'r', encoding='utf8')\n",
    "count = 0\n",
    "pos = 0\n",
    "neu = 0\n",
    "neg = 0\n",
    "for t in r_infomoney.readlines():\n",
    "    count += 1\n",
    "    if 'Positivo' in t:\n",
    "        pos += 1\n",
    "    if 'Neutro' in t:\n",
    "        neu += 1\n",
    "    if 'Negativo' in t:\n",
    "        neg += 1\n",
    "print(\"Total: \",count)\n",
    "print(\"Postivos: \",pos)\n",
    "print(\"Neutros: \",neu)\n",
    "print(\"Negativos: \",neg)"
   ]
  },
  {
   "cell_type": "code",
   "execution_count": 12,
   "metadata": {},
   "outputs": [
    {
     "name": "stdout",
     "output_type": "stream",
     "text": [
      "Total:  2614\n",
      "Postivos:  0\n",
      "Neutros:  1260\n",
      "Negativos:  47\n"
     ]
    }
   ],
   "source": [
    "# Resultados InfoMoney\n",
    "r_infomoney = open(dInfoMoney + today +'/polarityLiwcStemming.csv', 'r', encoding='utf8')\n",
    "count = 0\n",
    "pos = 0\n",
    "neu = 0\n",
    "neg = 0\n",
    "for t in r_infomoney.readlines():\n",
    "    count += 1\n",
    "    if 'Positivo' in t:\n",
    "        pos += 1\n",
    "    if 'Neutro' in t:\n",
    "        neu += 1\n",
    "    if 'Negativo' in t:\n",
    "        neg += 1\n",
    "print(\"Total: \",count)\n",
    "print(\"Postivos: \",pos)\n",
    "print(\"Neutros: \",neu)\n",
    "print(\"Negativos: \",neg)"
   ]
  },
  {
   "cell_type": "code",
   "execution_count": 13,
   "metadata": {},
   "outputs": [
    {
     "name": "stdout",
     "output_type": "stream",
     "text": [
      "Total:  198\n",
      "Postivos:  0\n",
      "Neutros:  63\n",
      "Negativos:  36\n"
     ]
    }
   ],
   "source": [
    "# Resultados Investing.com\n",
    "r_investing = open(dInvesting + today +'/polarityLiwc.csv', 'r', encoding='utf8')\n",
    "count = 0\n",
    "pos = 0\n",
    "neu = 0\n",
    "neg = 0\n",
    "for t in r_investing.readlines():\n",
    "    count += 1\n",
    "    if 'Positivo' in t:\n",
    "        pos += 1\n",
    "    if 'Neutro' in t:\n",
    "        neu += 1\n",
    "    if 'Negativo' in t:\n",
    "        neg += 1\n",
    "print(\"Total: \",count)\n",
    "print(\"Postivos: \",pos)\n",
    "print(\"Neutros: \",neu)\n",
    "print(\"Negativos: \",neg)"
   ]
  },
  {
   "cell_type": "code",
   "execution_count": 14,
   "metadata": {},
   "outputs": [
    {
     "name": "stdout",
     "output_type": "stream",
     "text": [
      "Total:  198\n",
      "Postivos:  0\n",
      "Neutros:  97\n",
      "Negativos:  2\n"
     ]
    }
   ],
   "source": [
    "# Resultados Investing.com\n",
    "r_investing = open(dInvesting + today +'/polarityLiwcStemming.csv', 'r', encoding='utf8')\n",
    "count = 0\n",
    "pos = 0\n",
    "neu = 0\n",
    "neg = 0\n",
    "for t in r_investing.readlines():\n",
    "    count += 1\n",
    "    if 'Positivo' in t:\n",
    "        pos += 1\n",
    "    if 'Neutro' in t:\n",
    "        neu += 1\n",
    "    if 'Negativo' in t:\n",
    "        neg += 1\n",
    "print(\"Total: \",count)\n",
    "print(\"Postivos: \",pos)\n",
    "print(\"Neutros: \",neu)\n",
    "print(\"Negativos: \",neg)"
   ]
  },
  {
   "cell_type": "code",
   "execution_count": null,
   "metadata": {},
   "outputs": [],
   "source": []
  }
 ],
 "metadata": {
  "kernelspec": {
   "display_name": "Python 3",
   "language": "python",
   "name": "python3"
  },
  "language_info": {
   "codemirror_mode": {
    "name": "ipython",
    "version": 3
   },
   "file_extension": ".py",
   "mimetype": "text/x-python",
   "name": "python",
   "nbconvert_exporter": "python",
   "pygments_lexer": "ipython3",
   "version": "3.6.5"
  }
 },
 "nbformat": 4,
 "nbformat_minor": 2
}
