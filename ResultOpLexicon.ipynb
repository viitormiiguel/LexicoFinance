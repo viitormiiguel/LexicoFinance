{
 "cells": [
  {
   "cell_type": "code",
   "execution_count": 1,
   "metadata": {},
   "outputs": [],
   "source": [
    "import nltk"
   ]
  },
  {
   "cell_type": "code",
   "execution_count": 2,
   "metadata": {},
   "outputs": [],
   "source": [
    "import csv"
   ]
  },
  {
   "cell_type": "code",
   "execution_count": 3,
   "metadata": {},
   "outputs": [],
   "source": [
    "import datetime\n",
    "now = datetime.datetime.now()\n",
    "today = now.strftime(\"%Y-%m-%d\")"
   ]
  },
  {
   "cell_type": "code",
   "execution_count": 4,
   "metadata": {},
   "outputs": [],
   "source": [
    "dInfoMoney = 'C:/Users/vitor/Documents/GetDataset/Infomoney/'\n",
    "dInvesting = 'C:/Users/vitor/Documents/GetDataset/Investing.com/'\n",
    "dTrading = 'C:/Users/vitor/Documents/GetDataset/TradingView/'"
   ]
  },
  {
   "cell_type": "code",
   "execution_count": 5,
   "metadata": {},
   "outputs": [
    {
     "name": "stdout",
     "output_type": "stream",
     "text": [
      "Total:  198\n",
      "Postivos:  20\n",
      "Neutros:  55\n",
      "Negativos:  24\n"
     ]
    }
   ],
   "source": [
    "# Resultados Investing.com\n",
    "r_investing = open(dInvesting + today +'/polarityOpLexicon.csv', 'r', encoding='utf8')\n",
    "count = 0\n",
    "pos = 0\n",
    "neu = 0\n",
    "neg = 0\n",
    "for t in r_investing.readlines():\n",
    "    count += 1\n",
    "    if 'Positivo' in t:\n",
    "        pos += 1\n",
    "    if 'Neutro' in t:\n",
    "        neu += 1\n",
    "    if 'Negativo' in t:\n",
    "        neg += 1\n",
    "print(\"Total: \",count)\n",
    "print(\"Postivos: \",pos)\n",
    "print(\"Neutros: \",neu)\n",
    "print(\"Negativos: \",neg)"
   ]
  },
  {
   "cell_type": "code",
   "execution_count": 6,
   "metadata": {},
   "outputs": [
    {
     "name": "stdout",
     "output_type": "stream",
     "text": [
      "Total:  198\n",
      "Postivos:  5\n",
      "Neutros:  93\n",
      "Negativos:  1\n"
     ]
    }
   ],
   "source": [
    "# Resultados Investing.com\n",
    "r_investing = open(dInvesting + today +'/polarityOpLexiconStemming.csv', 'r', encoding='utf8')\n",
    "count = 0\n",
    "pos = 0\n",
    "neu = 0\n",
    "neg = 0\n",
    "for t in r_investing.readlines():\n",
    "    count += 1\n",
    "    if 'Positivo' in t:\n",
    "        pos += 1\n",
    "    if 'Neutro' in t:\n",
    "        neu += 1\n",
    "    if 'Negativo' in t:\n",
    "        neg += 1\n",
    "print(\"Total: \",count)\n",
    "print(\"Postivos: \",pos)\n",
    "print(\"Neutros: \",neu)\n",
    "print(\"Negativos: \",neg)"
   ]
  },
  {
   "cell_type": "code",
   "execution_count": 7,
   "metadata": {},
   "outputs": [
    {
     "name": "stdout",
     "output_type": "stream",
     "text": [
      "Total:  2614\n",
      "Postivos:  335\n",
      "Neutros:  651\n",
      "Negativos:  321\n"
     ]
    }
   ],
   "source": [
    "# Resultados InfoMoney\n",
    "r_infomoney = open(dInfoMoney + today +'/polarityOpLexicon.csv', 'r', encoding='utf8')\n",
    "count = 0\n",
    "pos = 0\n",
    "neu = 0\n",
    "neg = 0\n",
    "for t in r_infomoney.readlines():\n",
    "    count += 1\n",
    "    if 'Positivo' in t:\n",
    "        pos += 1\n",
    "    if 'Neutro' in t:\n",
    "        neu += 1\n",
    "    if 'Negativo' in t:\n",
    "        neg += 1\n",
    "print(\"Total: \",count)\n",
    "print(\"Postivos: \",pos)\n",
    "print(\"Neutros: \",neu)\n",
    "print(\"Negativos: \",neg)"
   ]
  },
  {
   "cell_type": "code",
   "execution_count": 8,
   "metadata": {},
   "outputs": [
    {
     "name": "stdout",
     "output_type": "stream",
     "text": [
      "Total:  2614\n",
      "Postivos:  152\n",
      "Neutros:  1047\n",
      "Negativos:  108\n"
     ]
    }
   ],
   "source": [
    "# Resultados InfoMoney\n",
    "r_infomoney = open(dInfoMoney + today +'/polarityOpLexiconStemming.csv', 'r', encoding='utf8')\n",
    "count = 0\n",
    "pos = 0\n",
    "neu = 0\n",
    "neg = 0\n",
    "for t in r_infomoney.readlines():\n",
    "    count += 1\n",
    "    if 'Positivo' in t:\n",
    "        pos += 1\n",
    "    if 'Neutro' in t:\n",
    "        neu += 1\n",
    "    if 'Negativo' in t:\n",
    "        neg += 1\n",
    "print(\"Total: \",count)\n",
    "print(\"Postivos: \",pos)\n",
    "print(\"Neutros: \",neu)\n",
    "print(\"Negativos: \",neg)"
   ]
  },
  {
   "cell_type": "code",
   "execution_count": 9,
   "metadata": {},
   "outputs": [
    {
     "name": "stdout",
     "output_type": "stream",
     "text": [
      "Total:  1222\n",
      "Postivos:  395\n",
      "Neutros:  108\n",
      "Negativos:  119\n"
     ]
    }
   ],
   "source": [
    "# Resultados TradingView\n",
    "r_tradingview = open(dTrading + today +'/polarityOpLexicon.csv', 'r', encoding='utf8')\n",
    "count = 0\n",
    "pos = 0\n",
    "neu = 0\n",
    "neg = 0\n",
    "for t in r_tradingview.readlines():\n",
    "    count += 1\n",
    "    if 'Positivo' in t:\n",
    "        pos += 1\n",
    "    if 'Neutro' in t:\n",
    "        neu += 1\n",
    "    if 'Negativo' in t:\n",
    "        neg += 1\n",
    "print(\"Total: \",count)\n",
    "print(\"Postivos: \",pos)\n",
    "print(\"Neutros: \",neu)\n",
    "print(\"Negativos: \",neg)"
   ]
  },
  {
   "cell_type": "code",
   "execution_count": 10,
   "metadata": {},
   "outputs": [
    {
     "name": "stdout",
     "output_type": "stream",
     "text": [
      "Total:  1222\n",
      "Postivos:  286\n",
      "Neutros:  292\n",
      "Negativos:  44\n"
     ]
    }
   ],
   "source": [
    "# Resultados TradingView\n",
    "r_tradingview = open(dTrading + today +'/polarityOpLexiconStemming.csv', 'r', encoding='utf8')\n",
    "count = 0\n",
    "pos = 0\n",
    "neu = 0\n",
    "neg = 0\n",
    "for t in r_tradingview.readlines():\n",
    "    count += 1\n",
    "    if 'Positivo' in t:\n",
    "        pos += 1\n",
    "    if 'Neutro' in t:\n",
    "        neu += 1\n",
    "    if 'Negativo' in t:\n",
    "        neg += 1\n",
    "print(\"Total: \",count)\n",
    "print(\"Postivos: \",pos)\n",
    "print(\"Neutros: \",neu)\n",
    "print(\"Negativos: \",neg)"
   ]
  },
  {
   "cell_type": "code",
   "execution_count": null,
   "metadata": {},
   "outputs": [],
   "source": []
  }
 ],
 "metadata": {
  "kernelspec": {
   "display_name": "Python 3",
   "language": "python",
   "name": "python3"
  },
  "language_info": {
   "codemirror_mode": {
    "name": "ipython",
    "version": 3
   },
   "file_extension": ".py",
   "mimetype": "text/x-python",
   "name": "python",
   "nbconvert_exporter": "python",
   "pygments_lexer": "ipython3",
   "version": "3.6.5"
  }
 },
 "nbformat": 4,
 "nbformat_minor": 2
}
