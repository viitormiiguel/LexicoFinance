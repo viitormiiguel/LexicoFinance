{
 "cells": [
  {
   "cell_type": "code",
   "execution_count": 1,
   "metadata": {},
   "outputs": [],
   "source": [
    "import nltk"
   ]
  },
  {
   "cell_type": "code",
   "execution_count": 2,
   "metadata": {},
   "outputs": [],
   "source": [
    "import csv"
   ]
  },
  {
   "cell_type": "code",
   "execution_count": 3,
   "metadata": {},
   "outputs": [],
   "source": [
    "import datetime\n",
    "now = datetime.datetime.now()\n",
    "today = now.strftime(\"%Y-%m-%d\")"
   ]
  },
  {
   "cell_type": "code",
   "execution_count": 4,
   "metadata": {},
   "outputs": [],
   "source": [
    "dInfoMoney = 'C:/Users/vitor/Documents/GetDataset/Infomoney/'\n",
    "dInvesting = 'C:/Users/vitor/Documents/GetDataset/Investing.com/'\n",
    "dTrading = 'C:/Users/vitor/Documents/GetDataset/TradingView/'"
   ]
  },
  {
   "cell_type": "code",
   "execution_count": 5,
   "metadata": {},
   "outputs": [],
   "source": [
    "# Resultados Investing.com\n",
    "r_investing = open(dInvesting + today +'/polarityOpLexicon.csv', 'r', encoding='utf8')\n",
    "count = 0; posInv = 0; neuInv = 0; negInv = 0\n",
    "for t in r_investing.readlines():\n",
    "    count += 1\n",
    "    if 'Positivo' in t:\n",
    "        posInv += 1\n",
    "    if 'Neutro' in t:\n",
    "        neuInv += 1\n",
    "    if 'Negativo' in t:\n",
    "        negInv += 1"
   ]
  },
  {
   "cell_type": "code",
   "execution_count": 6,
   "metadata": {},
   "outputs": [],
   "source": [
    "# Resultados Investing.com\n",
    "r_investing = open(dInvesting + today +'/polarityOpLexiconStemming.csv', 'r', encoding='utf8')\n",
    "count = 0; pos = 0; neu = 0; neg = 0\n",
    "for t in r_investing.readlines():\n",
    "    count += 1\n",
    "    if 'Positivo' in t:\n",
    "        pos += 1\n",
    "    if 'Neutro' in t:\n",
    "        neu += 1\n",
    "    if 'Negativo' in t:\n",
    "        neg += 1"
   ]
  },
  {
   "cell_type": "code",
   "execution_count": 7,
   "metadata": {},
   "outputs": [],
   "source": [
    "# Resultados InfoMoney\n",
    "r_infomoney = open(dInfoMoney + today +'/polarityOpLexicon.csv', 'r', encoding='utf8')\n",
    "count = 0; posInf = 0; neuInf = 0; negInf = 0\n",
    "for t in r_infomoney.readlines():\n",
    "    count += 1\n",
    "    if 'Positivo' in t:\n",
    "        posInf += 1\n",
    "    if 'Neutro' in t:\n",
    "        neuInf += 1\n",
    "    if 'Negativo' in t:\n",
    "        negInf += 1"
   ]
  },
  {
   "cell_type": "code",
   "execution_count": 8,
   "metadata": {},
   "outputs": [],
   "source": [
    "# Resultados InfoMoney\n",
    "r_infomoney = open(dInfoMoney + today +'/polarityOpLexiconStemming.csv', 'r', encoding='utf8')\n",
    "count = 0; pos = 0; neu = 0; neg = 0\n",
    "for t in r_infomoney.readlines():\n",
    "    count += 1\n",
    "    if 'Positivo' in t:\n",
    "        pos += 1\n",
    "    if 'Neutro' in t:\n",
    "        neu += 1\n",
    "    if 'Negativo' in t:\n",
    "        neg += 1"
   ]
  },
  {
   "cell_type": "code",
   "execution_count": 9,
   "metadata": {},
   "outputs": [],
   "source": [
    "# Resultados TradingView\n",
    "r_tradingview = open(dTrading + today +'/polarityOpLexicon.csv', 'r', encoding='utf8')\n",
    "count = 0; posTrd = 0; neuTrd = 0; negTrd = 0\n",
    "for t in r_tradingview.readlines():\n",
    "    count += 1\n",
    "    if 'Positivo' in t:\n",
    "        posTrd += 1\n",
    "    if 'Neutro' in t:\n",
    "        neuTrd += 1\n",
    "    if 'Negativo' in t:\n",
    "        negTrd += 1"
   ]
  },
  {
   "cell_type": "code",
   "execution_count": 10,
   "metadata": {},
   "outputs": [],
   "source": [
    "# Resultados TradingView\n",
    "r_tradingview = open(dTrading + today +'/polarityOpLexiconStemming.csv', 'r', encoding='utf8')\n",
    "count = 0; pos = 0; neu = 0; neg = 0\n",
    "for t in r_tradingview.readlines():\n",
    "    count += 1\n",
    "    if 'Positivo' in t:\n",
    "        pos += 1\n",
    "    if 'Neutro' in t:\n",
    "        neu += 1\n",
    "    if 'Negativo' in t:\n",
    "        neg += 1"
   ]
  },
  {
   "cell_type": "code",
   "execution_count": 11,
   "metadata": {},
   "outputs": [],
   "source": [
    "%matplotlib inline\n",
    "import pandas as pd\n",
    "import matplotlib.pyplot as plt\n",
    "import numpy as np"
   ]
  },
  {
   "cell_type": "code",
   "execution_count": 12,
   "metadata": {},
   "outputs": [
    {
     "data": {
      "text/html": [
       "<div>\n",
       "<style scoped>\n",
       "    .dataframe tbody tr th:only-of-type {\n",
       "        vertical-align: middle;\n",
       "    }\n",
       "\n",
       "    .dataframe tbody tr th {\n",
       "        vertical-align: top;\n",
       "    }\n",
       "\n",
       "    .dataframe thead th {\n",
       "        text-align: right;\n",
       "    }\n",
       "</style>\n",
       "<table border=\"1\" class=\"dataframe\">\n",
       "  <thead>\n",
       "    <tr style=\"text-align: right;\">\n",
       "      <th></th>\n",
       "      <th>Fonte de Dados</th>\n",
       "      <th>Pos</th>\n",
       "      <th>Neu</th>\n",
       "      <th>Neg</th>\n",
       "    </tr>\n",
       "  </thead>\n",
       "  <tbody>\n",
       "    <tr>\n",
       "      <th>0</th>\n",
       "      <td>Investing.com</td>\n",
       "      <td>23</td>\n",
       "      <td>54</td>\n",
       "      <td>22</td>\n",
       "    </tr>\n",
       "    <tr>\n",
       "      <th>1</th>\n",
       "      <td>InfoMoney</td>\n",
       "      <td>334</td>\n",
       "      <td>650</td>\n",
       "      <td>323</td>\n",
       "    </tr>\n",
       "    <tr>\n",
       "      <th>2</th>\n",
       "      <td>TradingView</td>\n",
       "      <td>399</td>\n",
       "      <td>107</td>\n",
       "      <td>120</td>\n",
       "    </tr>\n",
       "  </tbody>\n",
       "</table>\n",
       "</div>"
      ],
      "text/plain": [
       "  Fonte de Dados  Pos  Neu  Neg\n",
       "0  Investing.com   23   54   22\n",
       "1      InfoMoney  334  650  323\n",
       "2    TradingView  399  107  120"
      ]
     },
     "execution_count": 12,
     "metadata": {},
     "output_type": "execute_result"
    }
   ],
   "source": [
    "raw_data = {'Fonte de Dados': ['Investing.com', 'InfoMoney', 'TradingView'],\n",
    "        'Pos': [posInv, posInf, posTrd],\n",
    "        'Neu': [neuInv, neuInf, neuTrd],\n",
    "        'Neg': [negInv, negInf, negTrd]}\n",
    "df = pd.DataFrame(raw_data, columns = ['Fonte de Dados', 'Pos', 'Neu', 'Neg'])\n",
    "df"
   ]
  },
  {
   "cell_type": "code",
   "execution_count": 13,
   "metadata": {},
   "outputs": [
    {
     "data": {
      "image/png": "[encoded data removed]",
      "text/plain": [
       "<matplotlib.figure.Figure at 0x1c4276fd748>"
      ]
     },
     "metadata": {},
     "output_type": "display_data"
    }
   ],
   "source": [
    "# Setting the positions and width for the bars\n",
    "pos = list(range(len(df['Pos']))) \n",
    "width = 0.25 \n",
    "    \n",
    "# Plotting the bars\n",
    "fig, ax = plt.subplots(figsize=(10,5))\n",
    "\n",
    "# Create a bar with pre_score data,\n",
    "# in position pos,\n",
    "plt.bar(pos, \n",
    "        #using df['pre_score'] data,\n",
    "        df['Pos'], \n",
    "        # of width\n",
    "        width, \n",
    "        # with alpha 0.5\n",
    "        alpha=0.5, \n",
    "        # with color\n",
    "        color='#EE3224', \n",
    "        # with label the first value in first_name\n",
    "        label=df['Fonte de Dados'][0]) \n",
    "\n",
    "# Create a bar with mid_score data,\n",
    "# in position pos + some width buffer,\n",
    "plt.bar([p + width for p in pos], \n",
    "        #using df['mid_score'] data,\n",
    "        df['Neu'],\n",
    "        # of width\n",
    "        width, \n",
    "        # with alpha 0.5\n",
    "        alpha=0.5, \n",
    "        # with color\n",
    "        color='#F78F1E', \n",
    "        # with label the second value in first_name\n",
    "        label=df['Fonte de Dados'][1]) \n",
    "\n",
    "# Create a bar with post_score data,\n",
    "# in position pos + some width buffer,\n",
    "plt.bar([p + width*2 for p in pos], \n",
    "        #using df['post_score'] data,\n",
    "        df['Neg'], \n",
    "        # of width\n",
    "        width, \n",
    "        # with alpha 0.5\n",
    "        alpha=0.5, \n",
    "        # with color\n",
    "        color='#FFC222', \n",
    "        # with label the third value in first_name\n",
    "        label=df['Fonte de Dados'][2]) \n",
    "\n",
    "# Set the y axis label\n",
    "ax.set_ylabel('N° de Textos')\n",
    "\n",
    "# Set the position of the x ticks\n",
    "ax.set_xticks([p + 1 * width for p in pos])\n",
    "\n",
    "# Set the labels for the x ticks\n",
    "ax.set_xticklabels(df['Fonte de Dados'])\n",
    "\n",
    "# Setting the x-axis and y-axis limits\n",
    "plt.xlim(min(pos)-width, max(pos)+width*4)\n",
    "plt.ylim([0, max(df['Pos'] + df['Neu'] + df['Neg'])] )\n",
    "\n",
    "# Adding the legend and showing the plot\n",
    "plt.legend(['Positivo', 'Neutro', 'Negativo'], loc='upper left')\n",
    "plt.grid()\n",
    "plt.show()"
   ]
  },
  {
   "cell_type": "code",
   "execution_count": null,
   "metadata": {},
   "outputs": [],
   "source": []
  }
 ],
 "metadata": {
  "kernelspec": {
   "display_name": "Python 3",
   "language": "python",
   "name": "python3"
  },
  "language_info": {
   "codemirror_mode": {
    "name": "ipython",
    "version": 3
   },
   "file_extension": ".py",
   "mimetype": "text/x-python",
   "name": "python",
   "nbconvert_exporter": "python",
   "pygments_lexer": "ipython3",
   "version": "3.6.5"
  }
 },
 "nbformat": 4,
 "nbformat_minor": 2
}
