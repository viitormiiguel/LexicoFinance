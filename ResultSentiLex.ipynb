{
 "cells": [
  {
   "cell_type": "code",
   "execution_count": null,
   "metadata": {},
   "outputs": [],
   "source": [
    "import nltk"
   ]
  },
  {
   "cell_type": "code",
   "execution_count": 2,
   "metadata": {},
   "outputs": [],
   "source": [
    "import csv"
   ]
  },
  {
   "cell_type": "code",
   "execution_count": 3,
   "metadata": {},
   "outputs": [],
   "source": [
    "import matplotlib.pyplot as plt \n",
    "import numpy as np"
   ]
  },
  {
   "cell_type": "code",
   "execution_count": 4,
   "metadata": {},
   "outputs": [],
   "source": [
    "import datetime\n",
    "now = datetime.datetime.now()\n",
    "today = now.strftime(\"%Y-%m-%d\")"
   ]
  },
  {
   "cell_type": "code",
   "execution_count": 5,
   "metadata": {},
   "outputs": [],
   "source": [
    "dInfoMoney = 'C:/Users/vitor/Documents/GetDataset/Infomoney/'\n",
    "dInvesting = 'C:/Users/vitor/Documents/GetDataset/Investing.com/'\n",
    "dTrading = 'C:/Users/vitor/Documents/GetDataset/TradingView/'"
   ]
  },
  {
   "cell_type": "code",
   "execution_count": 6,
   "metadata": {},
   "outputs": [],
   "source": [
    "# Resultados Investing.com\n",
    "r_investing = open(dInvesting + today +'/polaritySentilex.csv', 'r', encoding='utf8')\n",
    "count = 0; posInv = 0; neuInv = 0; negInv = 0;\n",
    "for t in r_investing.readlines():\n",
    "    count += 1\n",
    "    if 'Positivo' in t:\n",
    "        posInv += 1\n",
    "    if 'Neutro' in t:\n",
    "        neuInv += 1\n",
    "    if 'Negativo' in t:\n",
    "        negInv += 1"
   ]
  },
  {
   "cell_type": "code",
   "execution_count": 7,
   "metadata": {},
   "outputs": [],
   "source": [
    "# Resultados Investing.com\n",
    "r_investing = open(dInvesting + today +'/polaritySentilexStemming.csv', 'r', encoding='utf8')\n",
    "count = 0; pos = 0; neu = 0; neg = 0;\n",
    "for t in r_investing.readlines():\n",
    "    count += 1\n",
    "    if 'Positivo' in t:\n",
    "        pos += 1\n",
    "    if 'Neutro' in t:\n",
    "        neu += 1\n",
    "    if 'Negativo' in t:\n",
    "        neg += 1"
   ]
  },
  {
   "cell_type": "code",
   "execution_count": 8,
   "metadata": {},
   "outputs": [],
   "source": [
    "# Resultados InfoMoney\n",
    "r_infomoney = open(dInfoMoney + today +'/polaritySentilex.csv', 'r', encoding='utf8')\n",
    "count = 0; posInf = 0; neuInf = 0; negInf = 0;\n",
    "for t in r_infomoney.readlines():\n",
    "    count += 1\n",
    "    if 'Positivo' in t:\n",
    "        posInf += 1\n",
    "    if 'Neutro' in t:\n",
    "        neuInf += 1\n",
    "    if 'Negativo' in t:\n",
    "        negInf += 1"
   ]
  },
  {
   "cell_type": "code",
   "execution_count": 9,
   "metadata": {},
   "outputs": [],
   "source": [
    "# Resultados InfoMoney\n",
    "r_infomoney = open(dInfoMoney + today +'/polaritySentilexStemming.csv', 'r', encoding='utf8')\n",
    "count = 0; pos = 0; neu = 0; neg = 0;\n",
    "for t in r_infomoney.readlines():\n",
    "    count += 1\n",
    "    if 'Positivo' in t:\n",
    "        pos += 1\n",
    "    if 'Neutro' in t:\n",
    "        neu += 1\n",
    "    if 'Negativo' in t:\n",
    "        neg += 1"
   ]
  },
  {
   "cell_type": "code",
   "execution_count": 10,
   "metadata": {},
   "outputs": [],
   "source": [
    "# Resultados TradingView\n",
    "r_tradingview = open(dTrading + today +'/polaritySentilex.csv', 'r', encoding='utf8')\n",
    "count = 0; posTrd = 0; neuTrd = 0; negTrd = 0;\n",
    "for t in r_tradingview.readlines():\n",
    "    count += 1\n",
    "    if 'Positivo' in t:\n",
    "        posTrd += 1\n",
    "    if 'Neutro' in t:\n",
    "        neuTrd += 1\n",
    "    if 'Negativo' in t:\n",
    "        negTrd += 1"
   ]
  },
  {
   "cell_type": "code",
   "execution_count": 11,
   "metadata": {},
   "outputs": [],
   "source": [
    "# Resultados TradingView\n",
    "r_tradingview = open(dTrading + today +'/polaritySentilexStemming.csv', 'r', encoding='utf8')\n",
    "count = 0; pos = 0; neu = 0; neg = 0;\n",
    "for t in r_tradingview.readlines():\n",
    "    count += 1\n",
    "    if 'Positivo' in t:\n",
    "        pos += 1\n",
    "    if 'Neutro' in t:\n",
    "        neu += 1\n",
    "    if 'Negativo' in t:\n",
    "        neg += 1"
   ]
  },
  {
   "cell_type": "code",
   "execution_count": 2,
   "metadata": {},
   "outputs": [],
   "source": [
    "import matplotlib.pyplot as plt\n",
    "import numpy as np"
   ]
  },
  {
   "cell_type": "code",
   "execution_count": 13,
   "metadata": {},
   "outputs": [],
   "source": [
    "# Dados Plot\n",
    "# n_groups = 3\n",
    "# m_pos = (posInv, posInf, posTrd)\n",
    "# m_neu = (neuInv, neuInf, neuTrd)\n",
    "# m_neg = (negInv, negInf, negTrd)"
   ]
  },
  {
   "cell_type": "code",
   "execution_count": null,
   "metadata": {},
   "outputs": [],
   "source": [
    "# Create Plot\n",
    "# fig, ax = plt.subplots()\n",
    "# index = np.arange(n_groups)\n",
    "# bar_width = 0.35\n",
    "# opacity = 0.8\n",
    "# rects1 = plt.bar(index, m_pos, bar_width,\n",
    "#                 alpha=opacity,\n",
    "#                 color='g',\n",
    "#                 label='Positivos')\n",
    "# rects2 = plt.bar(index, m_neu, bar_width,\n",
    "#                 alpha=opacity,\n",
    "#                 color='b',\n",
    "#                 label='Neutros')\n",
    "# rects3 = plt.bar(index, m_beg, bar_width,\n",
    "#                 alpha=opacity,\n",
    "#                 color='y',\n",
    "#                 label='Negativos')"
   ]
  },
  {
   "cell_type": "code",
   "execution_count": null,
   "metadata": {},
   "outputs": [],
   "source": [
    "# plt.xlabel('Textos')\n",
    "# plt.ylabel('Nº de Textos')\n",
    "# plt.title('Polaridade de textos')\n",
    "# plt.xticks(index + bar_width, ('Investing', 'InfoMoney', 'TradingView'))\n",
    "# plt.legend()\n",
    " \n",
    "# plt.tight_layout()\n",
    "# plt.show()"
   ]
  },
  {
   "cell_type": "code",
   "execution_count": null,
   "metadata": {},
   "outputs": [],
   "source": [
    "import matplotlib.pyplot as plt\n",
    "import numpy as np\n",
    "\n",
    "# Initialize the plot\n",
    "fig = plt.figure()\n",
    "ax1 = fig.add_subplot(131)\n",
    "ax2 = fig.add_subplot(132)\n",
    "ax3 = fig.add_subplot(133)\n",
    "\n",
    "# Plot the data\n",
    "ax1.bar([1,2,3],[3,4,5])\n",
    "ax2.barh([0.5,1,2.5],[0,1,2])\n",
    "ax2.axhline(0.45)\n",
    "ax1.axvline(0.65)\n",
    "ax3.scatter(np.linspace(0, 1, 5), np.linspace(0, 5, 5))\n",
    "\n",
    "# Delete `ax3`\n",
    "fig.delaxes(ax3)\n",
    "\n",
    "# Show the plot\n",
    "plt.show()"
   ]
  },
  {
   "cell_type": "code",
   "execution_count": null,
   "metadata": {},
   "outputs": [],
   "source": []
  }
 ],
 "metadata": {
  "kernelspec": {
   "display_name": "Python 2",
   "language": "python",
   "name": "python2"
  },
  "language_info": {
   "codemirror_mode": {
    "name": "ipython",
    "version": 2
   },
   "file_extension": ".py",
   "mimetype": "text/x-python",
   "name": "python",
   "nbconvert_exporter": "python",
   "pygments_lexer": "ipython2",
   "version": "2.7.15"
  }
 },
 "nbformat": 4,
 "nbformat_minor": 2
}
