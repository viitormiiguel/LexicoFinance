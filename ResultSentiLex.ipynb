{
 "cells": [
  {
   "cell_type": "code",
   "execution_count": 1,
   "metadata": {},
   "outputs": [],
   "source": [
    "import nltk"
   ]
  },
  {
   "cell_type": "code",
   "execution_count": 2,
   "metadata": {},
   "outputs": [],
   "source": [
    "import csv"
   ]
  },
  {
   "cell_type": "code",
   "execution_count": 3,
   "metadata": {},
   "outputs": [],
   "source": [
    "import matplotlib.pyplot as plt \n",
    "import numpy as np"
   ]
  },
  {
   "cell_type": "code",
   "execution_count": 4,
   "metadata": {},
   "outputs": [],
   "source": [
    "import datetime\n",
    "now = datetime.datetime.now()\n",
    "today = now.strftime(\"%Y-%m-%d\")"
   ]
  },
  {
   "cell_type": "code",
   "execution_count": 5,
   "metadata": {},
   "outputs": [],
   "source": [
    "dInfoMoney = 'C:/Users/vitor/Documents/GetDataset/Infomoney/'\n",
    "dInvesting = 'C:/Users/vitor/Documents/GetDataset/Investing.com/'\n",
    "dTrading = 'C:/Users/vitor/Documents/GetDataset/TradingView/'"
   ]
  },
  {
   "cell_type": "code",
   "execution_count": null,
   "metadata": {},
   "outputs": [],
   "source": [
    "# Resultados Investing.com\n",
    "r_investing = open(dInvesting + today +'/polaritySentilex.csv', 'r', encoding='utf8')\n",
    "count = 0\n",
    "pos = 0\n",
    "neu = 0\n",
    "neg = 0\n",
    "for t in r_investing.readlines():\n",
    "    count += 1\n",
    "    if 'Positivo' in t:\n",
    "        pos += 1\n",
    "    if 'Neutro' in t:\n",
    "        neu += 1\n",
    "    if 'Negativo' in t:\n",
    "        neg += 1\n",
    "print(\"Total: \",count)\n",
    "print(\"Postivos: \",pos)\n",
    "print(\"Neutros: \",neu)\n",
    "print(\"Negativos: \",neg)"
   ]
  },
  {
   "cell_type": "code",
   "execution_count": null,
   "metadata": {},
   "outputs": [],
   "source": [
    "# Resultados Investing.com\n",
    "r_investing = open(dInvesting + today +'/polaritySentilexStemming.csv', 'r', encoding='utf8')\n",
    "count = 0\n",
    "pos = 0\n",
    "neu = 0\n",
    "neg = 0\n",
    "for t in r_investing.readlines():\n",
    "    count += 1\n",
    "    if 'Positivo' in t:\n",
    "        pos += 1\n",
    "    if 'Neutro' in t:\n",
    "        neu += 1\n",
    "    if 'Negativo' in t:\n",
    "        neg += 1\n",
    "print(\"Total: \",count)\n",
    "print(\"Postivos: \",pos)\n",
    "print(\"Neutros: \",neu)\n",
    "print(\"Negativos: \",neg)"
   ]
  },
  {
   "cell_type": "code",
   "execution_count": null,
   "metadata": {},
   "outputs": [],
   "source": [
    "# Resultados InfoMoney\n",
    "r_infomoney = open(dInfoMoney + today +'/polaritySentilex.csv', 'r', encoding='utf8')\n",
    "count = 0\n",
    "pos = 0\n",
    "neu = 0\n",
    "neg = 0\n",
    "for t in r_infomoney.readlines():\n",
    "    count += 1\n",
    "    if 'Positivo' in t:\n",
    "        pos += 1\n",
    "    if 'Neutro' in t:\n",
    "        neu += 1\n",
    "    if 'Negativo' in t:\n",
    "        neg += 1\n",
    "print(\"Total: \",count)\n",
    "print(\"Postivos: \",pos)\n",
    "print(\"Neutros: \",neu)\n",
    "print(\"Negativos: \",neg)"
   ]
  },
  {
   "cell_type": "code",
   "execution_count": null,
   "metadata": {},
   "outputs": [],
   "source": [
    "# Resultados InfoMoney\n",
    "r_infomoney = open(dInfoMoney + today +'/polaritySentilexStemming.csv', 'r', encoding='utf8')\n",
    "count = 0\n",
    "pos = 0\n",
    "neu = 0\n",
    "neg = 0\n",
    "for t in r_infomoney.readlines():\n",
    "    count += 1\n",
    "    if 'Positivo' in t:\n",
    "        pos += 1\n",
    "    if 'Neutro' in t:\n",
    "        neu += 1\n",
    "    if 'Negativo' in t:\n",
    "        neg += 1\n",
    "print(\"Total: \",count)\n",
    "print(\"Postivos: \",pos)\n",
    "print(\"Neutros: \",neu)\n",
    "print(\"Negativos: \",neg)"
   ]
  },
  {
   "cell_type": "code",
   "execution_count": null,
   "metadata": {},
   "outputs": [],
   "source": [
    "# Resultados TradingView\n",
    "r_tradingview = open(dTrading + today +'/polaritySentilex.csv', 'r', encoding='utf8')\n",
    "count = 0\n",
    "pos = 0\n",
    "neu = 0\n",
    "neg = 0\n",
    "for t in r_tradingview.readlines():\n",
    "    count += 1\n",
    "    if 'Positivo' in t:\n",
    "        pos += 1\n",
    "    if 'Neutro' in t:\n",
    "        neu += 1\n",
    "    if 'Negativo' in t:\n",
    "        neg += 1\n",
    "print(\"Total: \",count)\n",
    "print(\"Postivos: \",pos)\n",
    "print(\"Neutros: \",neu)\n",
    "print(\"Negativos: \",neg)"
   ]
  },
  {
   "cell_type": "code",
   "execution_count": 9,
   "metadata": {},
   "outputs": [],
   "source": [
    "# Resultados TradingView\n",
    "r_tradingview = open(dTrading + today +'/polaritySentilexStemming.csv', 'r', encoding='utf8')\n",
    "count = 0\n",
    "pos = 0\n",
    "neu = 0\n",
    "neg = 0\n",
    "for t in r_tradingview.readlines():\n",
    "    count += 1\n",
    "    if 'Positivo' in t:\n",
    "        pos += 1\n",
    "    if 'Neutro' in t:\n",
    "        neu += 1\n",
    "    if 'Negativo' in t:\n",
    "        neg += 1"
   ]
  },
  {
   "cell_type": "code",
   "execution_count": 10,
   "metadata": {},
   "outputs": [],
   "source": [
    "import matplotlib.pyplot as plt; plt.rcdefaults()\n",
    "import numpy as np\n",
    "import matplotlib.pyplot as plt"
   ]
  },
  {
   "cell_type": "code",
   "execution_count": 11,
   "metadata": {},
   "outputs": [],
   "source": [
    "objets = ('Positivos', 'Neutros', 'Negativos')\n",
    "y_pos = np.arange(len(objets))\n",
    "performance = [pos, neu, neg]"
   ]
  },
  {
   "cell_type": "code",
   "execution_count": 12,
   "metadata": {},
   "outputs": [
    {
     "data": {
      "image/png": "[encoded data removed]",
      "text/plain": [
       "<matplotlib.figure.Figure at 0x18b06c935f8>"
      ]
     },
     "metadata": {},
     "output_type": "display_data"
    }
   ],
   "source": [
    "plt.bar(y_pos, performance, align='center', alpha=0.5)\n",
    "plt.xticks(y_pos, objets)\n",
    "plt.ylabel('Usage')\n",
    "plt.title('Programming Language Usage')\n",
    "plt.show()"
   ]
  },
  {
   "cell_type": "code",
   "execution_count": null,
   "metadata": {},
   "outputs": [],
   "source": []
  }
 ],
 "metadata": {
  "kernelspec": {
   "display_name": "Python 3",
   "language": "python",
   "name": "python3"
  },
  "language_info": {
   "codemirror_mode": {
    "name": "ipython",
    "version": 3
   },
   "file_extension": ".py",
   "mimetype": "text/x-python",
   "name": "python",
   "nbconvert_exporter": "python",
   "pygments_lexer": "ipython3",
   "version": "3.6.5"
  }
 },
 "nbformat": 4,
 "nbformat_minor": 2
}
