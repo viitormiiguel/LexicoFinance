{
 "cells": [
  {
   "cell_type": "code",
   "execution_count": 1,
   "metadata": {},
   "outputs": [],
   "source": [
    "import nltk"
   ]
  },
  {
   "cell_type": "code",
   "execution_count": 2,
   "metadata": {},
   "outputs": [],
   "source": [
    "import csv"
   ]
  },
  {
   "cell_type": "code",
   "execution_count": 3,
   "metadata": {},
   "outputs": [],
   "source": [
    "import re"
   ]
  },
  {
   "cell_type": "code",
   "execution_count": 4,
   "metadata": {},
   "outputs": [],
   "source": [
    "import datetime\n",
    "now = datetime.datetime.now()\n",
    "today = now.strftime(\"%Y-%m-%d\")"
   ]
  },
  {
   "cell_type": "code",
   "execution_count": 5,
   "metadata": {},
   "outputs": [],
   "source": [
    "sentilex = open(\"Lexicon/SentiLex/SentiLex-lem-PT01.txt\", 'r', encoding=\"utf8\")"
   ]
  },
  {
   "cell_type": "code",
   "execution_count": 6,
   "metadata": {},
   "outputs": [],
   "source": [
    "dic_palavra = {}\n",
    "for i in sentilex.readlines():\n",
    "    pos_ponto = i.find('.')\n",
    "    palavra = (i[:pos_ponto])\n",
    "    pol_pos = i.find('POL')\n",
    "    polaridade = (i[pol_pos+4:pol_pos+6]).replace(';','')\n",
    "    dic_palavra[palavra] = polaridade"
   ]
  },
  {
   "cell_type": "code",
   "execution_count": 7,
   "metadata": {},
   "outputs": [],
   "source": [
    "def Score_sentimento(frase):\n",
    "    frase = frase.lower()\n",
    "    l_sentimento = []\n",
    "    for p in frase.split():\n",
    "        l_sentimento.append(int(dic_palavra.get(p, 0)))\n",
    "    score = sum(l_sentimento)\n",
    "    if score > 0:\n",
    "        return 'Positivo, Score:{}'.format(score)\n",
    "    elif score == 0:\n",
    "        return 'Neutro, Score:{}'.format(score)\n",
    "    else:\n",
    "        return 'Negativo, Score:{}'.format(score)"
   ]
  },
  {
   "cell_type": "code",
   "execution_count": 8,
   "metadata": {},
   "outputs": [],
   "source": [
    "stemmer = nltk.stem.RSLPStemmer()\n",
    "def Score_sentimento_Stemming(frase):\n",
    "    frase = frase.lower()\n",
    "    l_sentimento = []\n",
    "    for p in frase.split():\n",
    "        l_sentimento.append(int(dic_palavra.get(stemmer.stem(p), 0)))\n",
    "    score = sum(l_sentimento)\n",
    "    if score > 0:\n",
    "        return 'Positivo, Score:{}'.format(score)\n",
    "    elif score == 0:\n",
    "        return 'Neutro, Score:{}'.format(score)\n",
    "    else:\n",
    "        return 'Negativo, Score:{}'.format(score)"
   ]
  },
  {
   "cell_type": "code",
   "execution_count": 9,
   "metadata": {},
   "outputs": [],
   "source": [
    "dInfoMoney = 'C:/Users/vitor/Documents/GetDataset/Infomoney/'\n",
    "dInvesting = 'C:/Users/vitor/Documents/GetDataset/Investing.com/'\n",
    "dTrading = 'C:/Users/vitor/Documents/GetDataset/TradingView/'"
   ]
  },
  {
   "cell_type": "code",
   "execution_count": 10,
   "metadata": {},
   "outputs": [],
   "source": [
    "# -- TRADING VIEW --------------------------------------------------------------------------------------------------\n",
    "with open(dTrading + today +'/dataset.csv', encoding=\"utf8\") as csvfile:\n",
    "    reader = csv.reader(csvfile)\n",
    "    next(reader)\n",
    "    dataTrading = [r for r in reader]"
   ]
  },
  {
   "cell_type": "code",
   "execution_count": 11,
   "metadata": {},
   "outputs": [],
   "source": [
    "with open(dTrading + today +'/polaritySentilex.csv', mode='w', encoding=\"utf8\") as employee_file:\n",
    "    employee_writer = csv.writer(employee_file, delimiter=',', quotechar='\"', quoting=csv.QUOTE_MINIMAL)    \n",
    "    for lista in dataTrading:\n",
    "        try:\n",
    "            x = Score_sentimento(lista[2])\n",
    "            x = str(x)\n",
    "            employee_writer.writerow([lista[2], x])\n",
    "        except IndexError:\n",
    "            x = 'null'"
   ]
  },
  {
   "cell_type": "code",
   "execution_count": 12,
   "metadata": {},
   "outputs": [],
   "source": [
    "with open(dTrading + today +'/polaritySentilexStemming.csv', mode='w', encoding=\"utf8\") as employee_file:\n",
    "    employee_writer = csv.writer(employee_file, delimiter=',', quotechar='\"', quoting=csv.QUOTE_MINIMAL)    \n",
    "    for lista in dataTrading:\n",
    "        try:\n",
    "            x = Score_sentimento_Stemming(lista[2])\n",
    "            x = str(x)\n",
    "            employee_writer.writerow([lista[2], x])\n",
    "        except IndexError:\n",
    "            x = 'null'"
   ]
  },
  {
   "cell_type": "code",
   "execution_count": 13,
   "metadata": {},
   "outputs": [],
   "source": [
    "# INVESTING.COM\n",
    "with open(dInvesting + today +'/dataset.csv', encoding=\"utf8\") as csvfile:\n",
    "    reader = csv.reader(csvfile)\n",
    "    next(reader)\n",
    "    dataInvesting = [r for r in reader]"
   ]
  },
  {
   "cell_type": "code",
   "execution_count": 14,
   "metadata": {},
   "outputs": [],
   "source": [
    "with open(dInvesting + today +'/polaritySentilex.csv', mode='w', encoding=\"utf8\") as employee_file:\n",
    "    employee_writer = csv.writer(employee_file, delimiter=',', quotechar='\"', quoting=csv.QUOTE_MINIMAL)    \n",
    "    for lista1 in dataInvesting:\n",
    "        try:\n",
    "            x = Score_sentimento(lista1[2])\n",
    "            x = str(x)\n",
    "            employee_writer.writerow([lista1[2], x])\n",
    "        except IndexError:\n",
    "            x = 'null'"
   ]
  },
  {
   "cell_type": "code",
   "execution_count": 15,
   "metadata": {},
   "outputs": [],
   "source": [
    "with open(dInvesting + today +'/polaritySentilexStemming.csv', mode='w', encoding=\"utf8\") as employee_file:\n",
    "    employee_writer = csv.writer(employee_file, delimiter=',', quotechar='\"', quoting=csv.QUOTE_MINIMAL)    \n",
    "    for lista1 in dataInvesting:\n",
    "        try:\n",
    "            x = Score_sentimento_Stemming(lista1[2])\n",
    "            x = str(x)\n",
    "            employee_writer.writerow([lista1[2], x])\n",
    "        except IndexError:\n",
    "            x = 'null'"
   ]
  },
  {
   "cell_type": "code",
   "execution_count": 16,
   "metadata": {},
   "outputs": [],
   "source": [
    "# INFOMONEY\n",
    "with open(dInfoMoney + today +'/dataset.csv', encoding=\"utf8\") as csvfile:\n",
    "    reader = csv.reader(csvfile)\n",
    "    next(reader)\n",
    "    dataInfomoney = [r for r in reader]"
   ]
  },
  {
   "cell_type": "code",
   "execution_count": 17,
   "metadata": {},
   "outputs": [],
   "source": [
    "with open(dInfoMoney + today +'/polaritySentilex.csv', mode='w', encoding=\"utf8\") as employee_file:\n",
    "    employee_writer = csv.writer(employee_file, delimiter=',', quotechar='\"', quoting=csv.QUOTE_MINIMAL)    \n",
    "    for lista2 in dataInfomoney:\n",
    "        try:\n",
    "            x = Score_sentimento(lista2[2])\n",
    "            x = str(x)\n",
    "            employee_writer.writerow([lista2[2], x])\n",
    "        except IndexError:\n",
    "            x = 'null'"
   ]
  },
  {
   "cell_type": "code",
   "execution_count": 18,
   "metadata": {},
   "outputs": [],
   "source": [
    "with open(dInfoMoney + today +'/polaritySentilexStemming.csv', mode='w', encoding=\"utf8\") as employee_file:\n",
    "    employee_writer = csv.writer(employee_file, delimiter=',', quotechar='\"', quoting=csv.QUOTE_MINIMAL)    \n",
    "    for lista2 in dataInfomoney:\n",
    "        try:\n",
    "            x = Score_sentimento_Stemming(lista2[2])\n",
    "            x = str(x)\n",
    "            employee_writer.writerow([lista2[2], x])\n",
    "        except IndexError:\n",
    "            x = 'null'"
   ]
  },
  {
   "cell_type": "code",
   "execution_count": null,
   "metadata": {},
   "outputs": [],
   "source": []
  }
 ],
 "metadata": {
  "kernelspec": {
   "display_name": "Python 3",
   "language": "python",
   "name": "python3"
  },
  "language_info": {
   "codemirror_mode": {
    "name": "ipython",
    "version": 3
   },
   "file_extension": ".py",
   "mimetype": "text/x-python",
   "name": "python",
   "nbconvert_exporter": "python",
   "pygments_lexer": "ipython3",
   "version": "3.6.6"
  }
 },
 "nbformat": 4,
 "nbformat_minor": 2
}
