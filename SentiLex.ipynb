{
 "cells": [
  {
   "cell_type": "code",
   "execution_count": 10,
   "metadata": {},
   "outputs": [],
   "source": [
    "import nltk"
   ]
  },
  {
   "cell_type": "code",
   "execution_count": 11,
   "metadata": {},
   "outputs": [],
   "source": [
    "import csv"
   ]
  },
  {
   "cell_type": "code",
   "execution_count": 12,
   "metadata": {},
   "outputs": [],
   "source": [
    "import re"
   ]
  },
  {
   "cell_type": "code",
   "execution_count": 13,
   "metadata": {},
   "outputs": [],
   "source": [
    "import datetime\n",
    "now = datetime.datetime.now()"
   ]
  },
  {
   "cell_type": "code",
   "execution_count": 14,
   "metadata": {},
   "outputs": [],
   "source": [
    "sentilex = open(\"C:\\\\Users\\\\vitor\\\\Documents\\\\Python Projects\\\\SentiLexFinancial\\\\Lexicon\\\\SentiLex\\\\SentiLex-lem-PT01.txt\", 'r', encoding=\"utf8\")"
   ]
  },
  {
   "cell_type": "code",
   "execution_count": 15,
   "metadata": {},
   "outputs": [],
   "source": [
    "dic_palavra = {}\n",
    "for i in sentilex.readlines():\n",
    "    pos_ponto = i.find('.')\n",
    "    palavra = (i[:pos_ponto])\n",
    "    pol_pos = i.find('POL')\n",
    "    polaridade = (i[pol_pos+4:pol_pos+6]).replace(';','')\n",
    "    dic_palavra[palavra] = polaridade"
   ]
  },
  {
   "cell_type": "code",
   "execution_count": 16,
   "metadata": {},
   "outputs": [],
   "source": [
    "def Score_sentimento(frase):\n",
    "    frase = frase.lower()\n",
    "    l_sentimento = []\n",
    "    for p in frase.split():\n",
    "        l_sentimento.append(int(dic_palavra.get(p, 0)))\n",
    "    score = sum(l_sentimento)\n",
    "    if score > 0:\n",
    "        return 'Positivo, Score:{}'.format(score)\n",
    "    elif score == 0:\n",
    "        return 'Neutro, Score:{}'.format(score)\n",
    "    else:\n",
    "        return 'Negativo, Score:{}'.format(score)"
   ]
  },
  {
   "cell_type": "code",
   "execution_count": 17,
   "metadata": {},
   "outputs": [],
   "source": [
    "today = now.strftime(\"%Y-%m-%d\")"
   ]
  },
  {
   "cell_type": "code",
   "execution_count": 18,
   "metadata": {},
   "outputs": [],
   "source": [
    "# -- TRADING VIEW --------------------------------------------------------------------------------------------------\n",
    "with open('C:/Users/vitor/Documents/GetDataset/TradingView/'+ today +'/dataset.csv', encoding=\"utf8\") as csvfile:\n",
    "    reader = csv.reader(csvfile)\n",
    "    next(reader)\n",
    "    dataTrading = [r for r in reader]"
   ]
  },
  {
   "cell_type": "code",
   "execution_count": 19,
   "metadata": {},
   "outputs": [],
   "source": [
    "with open('C:/Users/vitor/Documents/GetDataset/TradingView/'+ today +'/polaritySentilex.csv', mode='w', encoding=\"utf8\") as employee_file:\n",
    "    employee_writer = csv.writer(employee_file, delimiter=',', quotechar='\"', quoting=csv.QUOTE_MINIMAL)    \n",
    "    for lista in dataTrading:\n",
    "        try:\n",
    "            x = Score_sentimento(lista[2])\n",
    "            x = str(x)\n",
    "            employee_writer.writerow([lista[2], x])\n",
    "        except IndexError:\n",
    "            x = 'null'"
   ]
  },
  {
   "cell_type": "code",
   "execution_count": 20,
   "metadata": {},
   "outputs": [],
   "source": [
    "# INVESTING.COM\n",
    "with open('C:/Users/vitor/Documents/GetDataset/Investing.com/'+ today +'/dataset.csv', encoding=\"utf8\") as csvfile:\n",
    "    reader = csv.reader(csvfile)\n",
    "    next(reader)\n",
    "    dataInvesting = [r for r in reader]"
   ]
  },
  {
   "cell_type": "code",
   "execution_count": 21,
   "metadata": {},
   "outputs": [],
   "source": [
    "with open('C:/Users/vitor/Documents/GetDataset/Investing.com/'+ today +'/polaritySentilex.csv', mode='w', encoding=\"utf8\") as employee_file:\n",
    "    employee_writer = csv.writer(employee_file, delimiter=',', quotechar='\"', quoting=csv.QUOTE_MINIMAL)    \n",
    "    for lista1 in dataInvesting:\n",
    "        try:\n",
    "            x = Score_sentimento(lista1[2])\n",
    "            x = str(x)\n",
    "            employee_writer.writerow([lista1[2], x])\n",
    "        except IndexError:\n",
    "            x = 'null'"
   ]
  },
  {
   "cell_type": "code",
   "execution_count": 22,
   "metadata": {},
   "outputs": [],
   "source": [
    "# INFOMONEY\n",
    "with open('C:/Users/vitor/Documents/GetDataset/Infomoney/'+ today +'/dataset.csv', encoding=\"utf8\") as csvfile:\n",
    "    reader = csv.reader(csvfile)\n",
    "    next(reader)\n",
    "    dataInfomoney = [r for r in reader]"
   ]
  },
  {
   "cell_type": "code",
   "execution_count": 23,
   "metadata": {},
   "outputs": [],
   "source": [
    "with open('C:/Users/vitor/Documents/GetDataset/Infomoney/'+ today +'/polaritySentilex.csv', mode='w', encoding=\"utf8\") as employee_file:\n",
    "    employee_writer = csv.writer(employee_file, delimiter=',', quotechar='\"', quoting=csv.QUOTE_MINIMAL)    \n",
    "    for lista2 in dataInfomoney:\n",
    "        try:\n",
    "            x = Score_sentimento(lista2[2])\n",
    "            x = str(x)\n",
    "            employee_writer.writerow([lista2[2], x])\n",
    "        except IndexError:\n",
    "            x = 'null'"
   ]
  },
  {
   "cell_type": "code",
   "execution_count": 44,
   "metadata": {},
   "outputs": [
    {
     "name": "stdout",
     "output_type": "stream",
     "text": [
      "Total:  198\n",
      "Postivos:  8\n",
      "Neutros:  79\n",
      "Negativos:  12\n"
     ]
    }
   ],
   "source": [
    "# Resultados Investing.com\n",
    "r_investing = open('C:/Users/vitor/Documents/GetDataset/Investing.com/'+ today +'/polaritySentilex.csv', 'r', encoding='utf8')\n",
    "count = 0\n",
    "pos = 0\n",
    "neu = 0\n",
    "neg = 0\n",
    "for t in r_investing.readlines():\n",
    "    count += 1\n",
    "    if 'Positivo' in t:\n",
    "        pos += 1\n",
    "    if 'Neutro' in t:\n",
    "        neu += 1\n",
    "    if 'Negativo' in t:\n",
    "        neg += 1\n",
    "print(\"Total: \",count)\n",
    "print(\"Postivos: \",pos)\n",
    "print(\"Neutros: \",neu)\n",
    "print(\"Negativos: \",neg)"
   ]
  },
  {
   "cell_type": "code",
   "execution_count": 45,
   "metadata": {},
   "outputs": [
    {
     "name": "stdout",
     "output_type": "stream",
     "text": [
      "Total:  2614\n",
      "Postivos:  166\n",
      "Neutros:  998\n",
      "Negativos:  143\n"
     ]
    }
   ],
   "source": [
    "# Resultados InfoMoney\n",
    "r_infomoney = open('C:/Users/vitor/Documents/GetDataset/Infomoney/'+ today +'/polaritySentilex.csv', 'r', encoding='utf8')\n",
    "count = 0\n",
    "pos = 0\n",
    "neu = 0\n",
    "neg = 0\n",
    "for t in r_infomoney.readlines():\n",
    "    count += 1\n",
    "    if 'Positivo' in t:\n",
    "        pos += 1\n",
    "    if 'Neutro' in t:\n",
    "        neu += 1\n",
    "    if 'Negativo' in t:\n",
    "        neg += 1\n",
    "print(\"Total: \",count)\n",
    "print(\"Postivos: \",pos)\n",
    "print(\"Neutros: \",neu)\n",
    "print(\"Negativos: \",neg)"
   ]
  },
  {
   "cell_type": "code",
   "execution_count": 46,
   "metadata": {},
   "outputs": [
    {
     "name": "stdout",
     "output_type": "stream",
     "text": [
      "Total:  1224\n",
      "Postivos:  323\n",
      "Neutros:  207\n",
      "Negativos:  96\n"
     ]
    }
   ],
   "source": [
    "# Resultados TradingView\n",
    "r_tradingview = open('C:/Users/vitor/Documents/GetDataset/TradingView/'+ today +'/polaritySentilex.csv', 'r', encoding='utf8')\n",
    "count = 0\n",
    "pos = 0\n",
    "neu = 0\n",
    "neg = 0\n",
    "for t in r_tradingview.readlines():\n",
    "    count += 1\n",
    "    if 'Positivo' in t:\n",
    "        pos += 1\n",
    "    if 'Neutro' in t:\n",
    "        neu += 1\n",
    "    if 'Negativo' in t:\n",
    "        neg += 1\n",
    "print(\"Total: \",count)\n",
    "print(\"Postivos: \",pos)\n",
    "print(\"Neutros: \",neu)\n",
    "print(\"Negativos: \",neg)"
   ]
  },
  {
   "cell_type": "code",
   "execution_count": 57,
   "metadata": {},
   "outputs": [
    {
     "name": "stdout",
     "output_type": "stream",
     "text": [
      "Atual: Se Stem: se \n",
      "Atual: o Stem: o \n",
      "Atual: índice Stem: índic \n",
      "Atual: segurar Stem: segur \n",
      "Atual: acima Stem: acim \n",
      "Atual: dos Stem: do \n",
      "Atual: 82000 Stem: 82000 \n",
      "Atual: , Stem: , \n",
      "Atual: abev3 Stem: abev3 \n",
      "Atual: abre Stem: abr \n",
      "Atual: oportunidade Stem: oportun \n",
      "Atual: de Stem: de \n",
      "Atual: compra Stem: compr \n",
      "Atual: na Stem: na \n",
      "Atual: faixa Stem: faix \n",
      "Atual: de Stem: de \n",
      "Atual: 16,35 Stem: 16,35 \n",
      "Atual: . Stem: . \n",
      "Atual: O Stem: o \n",
      "Atual: ideal Stem: ideal \n",
      "Atual: seria Stem: ser \n",
      "Atual: aguardar Stem: aguard \n",
      "Atual: candle Stem: candl \n",
      "Atual: de Stem: de \n",
      "Atual: reversão Stem: revers \n",
      "Atual: compradora Stem: compr \n",
      "Atual: com Stem: com \n",
      "Atual: volume Stem: volum \n",
      "Atual: acima Stem: acim \n",
      "Atual: da Stem: da \n",
      "Atual: média Stem: méd \n",
      "Atual: quando Stem: qu \n",
      "Atual: os Stem: os \n",
      "Atual: preços Stem: preç \n",
      "Atual: tocarem Stem: toc \n",
      "Atual: essa Stem: ess \n",
      "Atual: região Stem: reg \n",
      "Atual: . Stem: . \n",
      "Atual: Com Stem: com \n",
      "Atual: a Stem: a \n",
      "Atual: perda Stem: perd \n",
      "Atual: de Stem: de \n",
      "Atual: R Stem: r \n",
      "Atual: $ Stem: $ \n",
      "Atual: 17,80 Stem: 17,80 \n",
      "Atual: o Stem: o \n",
      "Atual: ativo Stem: ativ \n",
      "Atual: abriu Stem: abr \n",
      "Atual: margem Stem: marg \n",
      "Atual: para Stem: par \n",
      "Atual: força Stem: forç \n",
      "Atual: vendedora Stem: vend \n",
      "Atual: e Stem: e \n",
      "Atual: devemos Stem: dev \n",
      "Atual: aguardar Stem: aguard \n",
      "Atual: um Stem: um \n",
      "Atual: padrão Stem: padr \n",
      "Atual: de Stem: de \n",
      "Atual: diminuição Stem: diminu \n",
      "Atual: do Stem: do \n",
      "Atual: ímpeto Stem: ímpet \n",
      "Atual: na Stem: na \n",
      "Atual: aproximação Stem: aproxim \n",
      "Atual: da Stem: da \n",
      "Atual: zona Stem: zon \n",
      "Atual: de Stem: de \n",
      "Atual: suporte Stem: suport \n",
      "Atual: em Stem: em \n",
      "Atual: R Stem: r \n",
      "Atual: $ Stem: $ \n",
      "Atual: 16,35 Stem: 16,35 \n",
      "Atual: . Stem: . \n"
     ]
    }
   ],
   "source": [
    "# import nltk\n",
    "# nltk.download('rslp')\n",
    "# from nltk.stem.porter import PorterStemmer\n",
    "# porter_stemmer = PorterStemmer()\n",
    "stemmer = nltk.stem.RSLPStemmer()\n",
    "word_data = 'Se o índice segurar acima dos 82000, abev3 abre oportunidade de compra na faixa de 16,35.  O ideal seria aguardar candle de reversão compradora com volume acima da média quando os preços tocarem essa região.   Com a perda de R$17,80 o ativo abriu margem para força vendedora e devemos aguardar um padrão de diminuição do ímpeto na aproximação da zona de suporte em R$16,35.'\n",
    "nltk_tokens = nltk.word_tokenize(word_data)\n",
    "for w in nltk_tokens:\n",
    "    print(\"Atual: %s Stem: %s \"%(w,stemmer.stem(w)))"
   ]
  },
  {
   "cell_type": "code",
   "execution_count": null,
   "metadata": {},
   "outputs": [],
   "source": []
  }
 ],
 "metadata": {
  "kernelspec": {
   "display_name": "Python 3",
   "language": "python",
   "name": "python3"
  },
  "language_info": {
   "codemirror_mode": {
    "name": "ipython",
    "version": 3
   },
   "file_extension": ".py",
   "mimetype": "text/x-python",
   "name": "python",
   "nbconvert_exporter": "python",
   "pygments_lexer": "ipython3",
   "version": "3.6.6"
  }
 },
 "nbformat": 4,
 "nbformat_minor": 2
}
